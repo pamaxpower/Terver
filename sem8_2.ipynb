{
 "cells": [
  {
   "cell_type": "markdown",
   "id": "322f2a14",
   "metadata": {},
   "source": [
    "**Задача 2. Провести двусторонний тест и ответить на вопрос, есть ли статистически значимые различия между средними двух нормально распределенных генеральных совокупностей, представленных следующими выборками:\\\n",
    "x = [12,10,11,19,13,11,17,15,19,14,21,18,21,11,17,14,15,17,20,19]\\\n",
    "y = [11,13,18,15,17,18,10,21,26,15,11,12,15,17,10,18,18,12,21,20]\\\n",
    "Уровень статистической значимости принять на 5%**"
   ]
  },
  {
   "cell_type": "code",
   "execution_count": 17,
   "id": "d1862c8f",
   "metadata": {},
   "outputs": [
    {
     "name": "stdout",
     "output_type": "stream",
     "text": [
      "Ttest_indResult(statistic=-0.1599663264228627, pvalue=0.8737549039369696)\n"
     ]
    }
   ],
   "source": [
    "import numpy as np\n",
    "import scipy.stats as stats\n",
    "import matplotlib.pyplot as plt\n",
    "\n",
    "x = np.array([12,10,11,19,13,11,17,15,19,14,21,18,21,11,17,14,15,17,20,19])\n",
    "y = np.array([11,13,18,15,17,18,10,21,26,15,11,12,15,17,10,18,18,12,21,20])\n",
    "\n",
    "print(stats.ttest_ind(x,y))"
   ]
  },
  {
   "cell_type": "markdown",
   "id": "f892c19e",
   "metadata": {},
   "source": [
    "p-value > $\\alpha$, принимаем нулевую гипотезу: отличий нет"
   ]
  },
  {
   "cell_type": "markdown",
   "id": "981355f4",
   "metadata": {},
   "source": [
    "**Если вдруг у нас отсутствует условие нормальности для генеральных всовокупностей, то можно прибегнуть к непараметрическим критериям, а именно, критерию Манна-Уитни:**"
   ]
  },
  {
   "cell_type": "code",
   "execution_count": 18,
   "id": "a9dc603b",
   "metadata": {
    "scrolled": true
   },
   "outputs": [
    {
     "name": "stdout",
     "output_type": "stream",
     "text": [
      "MannwhitneyuResult(statistic=200.0, pvalue=1.0)\n"
     ]
    }
   ],
   "source": [
    "print(stats.mannwhitneyu(x,y))"
   ]
  },
  {
   "cell_type": "markdown",
   "id": "f851028c",
   "metadata": {},
   "source": [
    "p-value >  𝛼, принимаем нулевую гипотезу: отличий нет"
   ]
  },
  {
   "cell_type": "markdown",
   "id": "9ad208c0",
   "metadata": {},
   "source": [
    "**Проверка выборок на нормальность:**"
   ]
  },
  {
   "cell_type": "code",
   "execution_count": 19,
   "id": "de8e4a6b",
   "metadata": {},
   "outputs": [
    {
     "name": "stdout",
     "output_type": "stream",
     "text": [
      "ShapiroResult(statistic=0.9344806671142578, pvalue=0.18825101852416992)\n",
      "ShapiroResult(statistic=0.9460763335227966, pvalue=0.3114224076271057)\n"
     ]
    }
   ],
   "source": [
    "print(stats.shapiro(x))\n",
    "print(stats.shapiro(y))"
   ]
  },
  {
   "cell_type": "markdown",
   "id": "0fb1f189",
   "metadata": {},
   "source": [
    "Оба значения p-value больше $\\alpha$: выборки имеют нормальное распределение"
   ]
  },
  {
   "cell_type": "markdown",
   "id": "93c176ac",
   "metadata": {},
   "source": [
    "**Найдем коэффициент корреляции и построим график:**"
   ]
  },
  {
   "cell_type": "code",
   "execution_count": 23,
   "id": "6a05b9d2",
   "metadata": {},
   "outputs": [
    {
     "name": "stdout",
     "output_type": "stream",
     "text": [
      "[[1.         0.01847613]\n",
      " [0.01847613 1.        ]]\n"
     ]
    },
    {
     "data": {
      "text/plain": [
       "<function matplotlib.pyplot.show(close=None, block=None)>"
      ]
     },
     "execution_count": 23,
     "metadata": {},
     "output_type": "execute_result"
    },
    {
     "data": {
      "image/png": "[encoded data removed]",
      "text/plain": [
       "<Figure size 640x480 with 1 Axes>"
      ]
     },
     "metadata": {},
     "output_type": "display_data"
    }
   ],
   "source": [
    "print(np.corrcoef(x,y))\n",
    "plt.scatter(x,y)\n",
    "plt.show"
   ]
  },
  {
   "cell_type": "markdown",
   "id": "e1bd7a8f",
   "metadata": {},
   "source": [
    "Значение p-value низкое, можно предположить, что линейная зависимость отсутствует"
   ]
  },
  {
   "cell_type": "code",
   "execution_count": 29,
   "id": "45c20d02",
   "metadata": {},
   "outputs": [
    {
     "data": {
      "text/plain": [
       "2.024394164575136"
      ]
     },
     "execution_count": 29,
     "metadata": {},
     "output_type": "execute_result"
    }
   ],
   "source": [
    "stats.t.ppf(1-0.05/2, 2*(len(x)-1))"
   ]
  }
 ],
 "metadata": {
  "kernelspec": {
   "display_name": "Python 3 (ipykernel)",
   "language": "python",
   "name": "python3"
  },
  "language_info": {
   "codemirror_mode": {
    "name": "ipython",
    "version": 3
   },
   "file_extension": ".py",
   "mimetype": "text/x-python",
   "name": "python",
   "nbconvert_exporter": "python",
   "pygments_lexer": "ipython3",
   "version": "3.9.13"
  }
 },
 "nbformat": 4,
 "nbformat_minor": 5
}
