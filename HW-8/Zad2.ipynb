{
 "cells": [
  {
   "cell_type": "markdown",
   "id": "6942f986",
   "metadata": {},
   "source": [
    "**Задача 2. Измерены значения IQ выборки студентов,\n",
    "обучающихся в местных технических вузах:\\\n",
    "131, 125, 115, 122, 131, 115, 107, 99, 125, 111.\\\n",
    "Известно, что в генеральной совокупности IQ распределен нормально.\\\n",
    "Найдите доверительный интервал для математического ожидания с надежностью 0.95.**"
   ]
  },
  {
   "cell_type": "markdown",
   "id": "be8d7110",
   "metadata": {},
   "source": [
    "**Решение:**\\\n",
    "По условию задачи нам неизвестная среднее квадратичное отклонение $\\sigma$, поэтому будем применять формулу:\\\n",
    "$ X \\pm t_{ \\frac {\\alpha}{2}} * \\frac {\\sigma}{\\sqrt{n}} $"
   ]
  },
  {
   "cell_type": "code",
   "execution_count": 2,
   "id": "bd66bb70",
   "metadata": {},
   "outputs": [],
   "source": [
    "import numpy as np\n",
    "import scipy.stats as stats\n",
    "\n",
    "IQ = np.array([131, 125, 115, 122, 131, 115, 107, 99, 125, 111])"
   ]
  },
  {
   "cell_type": "markdown",
   "id": "54c38698",
   "metadata": {},
   "source": [
    "1. Найдем среднее арифметическое и среднее квадратичное:"
   ]
  },
  {
   "cell_type": "code",
   "execution_count": 4,
   "id": "d1f7b75f",
   "metadata": {},
   "outputs": [
    {
     "name": "stdout",
     "output_type": "stream",
     "text": [
      "Средне арифметическое равно:  118.10, а среднее квадратичное:  10.55\n"
     ]
    }
   ],
   "source": [
    "x = np.mean(IQ)\n",
    "sig = np.std(IQ, ddof=1)\n",
    "print(f'Средне арифметическое равно: {x: .2f}, а среднее квадратичное: {sig: .2f}')"
   ]
  },
  {
   "cell_type": "markdown",
   "id": "e17bdd90",
   "metadata": {},
   "source": [
    "2. Найдем критерий Стьюдента и вычислим доверительный интервал:"
   ]
  },
  {
   "cell_type": "code",
   "execution_count": 8,
   "id": "aae568c2",
   "metadata": {},
   "outputs": [
    {
     "name": "stdout",
     "output_type": "stream",
     "text": [
      "Критерий Стьюдента:  2.2622\n"
     ]
    }
   ],
   "source": [
    "t = np.abs(stats.t.ppf((1-0.95)/2, len(IQ)-1))\n",
    "print(f'Критерий Стьюдента: {t: .4f}')"
   ]
  },
  {
   "cell_type": "code",
   "execution_count": 10,
   "id": "d8e529a2",
   "metadata": {},
   "outputs": [
    {
     "name": "stdout",
     "output_type": "stream",
     "text": [
      "Доверительный интервал равен: [ 110.56 ;  125.64]\n"
     ]
    }
   ],
   "source": [
    "l = x - t * (sig / np.sqrt(len(IQ)))\n",
    "u = x + t * (sig / np.sqrt(len(IQ)))\n",
    "print(f'Доверительный интервал равен: [{l: .2f} ; {u: .2f}]')"
   ]
  },
  {
   "cell_type": "markdown",
   "id": "d6cb0976",
   "metadata": {},
   "source": [
    "**Ответ:**\\\n",
    "95% доверительный интервал для истинного X равен: [ 110.56 ;  125.64]"
   ]
  }
 ],
 "metadata": {
  "kernelspec": {
   "display_name": "Python 3 (ipykernel)",
   "language": "python",
   "name": "python3"
  },
  "language_info": {
   "codemirror_mode": {
    "name": "ipython",
    "version": 3
   },
   "file_extension": ".py",
   "mimetype": "text/x-python",
   "name": "python",
   "nbconvert_exporter": "python",
   "pygments_lexer": "ipython3",
   "version": "3.9.13"
  }
 },
 "nbformat": 4,
 "nbformat_minor": 5
}
