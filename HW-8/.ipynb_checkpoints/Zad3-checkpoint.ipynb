{
 "cells": [
  {
   "cell_type": "markdown",
   "id": "a3677bc7",
   "metadata": {},
   "source": [
    "**Задача 3. Известно, что рост футболистов в сборной распределен нормально с дисперсией генеральной совокупности, равной 25 кв.см. Объем выборки равен 27, среднее выборочное составляет 174.2. Найдите доверительный интервал для математического ожидания с надежностью 0.95.**"
   ]
  },
  {
   "cell_type": "markdown",
   "id": "161334ec",
   "metadata": {},
   "source": [
    "**Решение:**\\\n",
    "По условию задачи нам известна дисперсия, Значит будем использовать формулу:\\\n",
    "$ X \\pm Z_{ \\frac {\\alpha}{2}} * \\sqrt {\\frac {D}{n}} $, где $X = M$, а $Z_{ \\frac {\\alpha}{2}} = 1,96$"
   ]
  },
  {
   "cell_type": "code",
   "execution_count": 2,
   "id": "4b8ed704",
   "metadata": {},
   "outputs": [
    {
     "name": "stdout",
     "output_type": "stream",
     "text": [
      "Доверительный интервал равен: [ 172.31 ;  176.09]\n"
     ]
    }
   ],
   "source": [
    "import numpy as np\n",
    "\n",
    "z = 1.96\n",
    "D = 25\n",
    "X = 174.2\n",
    "n = 27\n",
    "\n",
    "U = X + z * np.sqrt(D / n)\n",
    "L = X - z * np.sqrt(D / n)\n",
    "print(f'Доверительный интервал равен: [{L: .2f} ; {U: .2f}]')"
   ]
  },
  {
   "cell_type": "markdown",
   "id": "53bca404",
   "metadata": {},
   "source": [
    "**Ответ:**\\\n",
    "95% доверительный интервал равен: [ 172.31 ;  176.09]"
   ]
  }
 ],
 "metadata": {
  "kernelspec": {
   "display_name": "Python 3 (ipykernel)",
   "language": "python",
   "name": "python3"
  },
  "language_info": {
   "codemirror_mode": {
    "name": "ipython",
    "version": 3
   },
   "file_extension": ".py",
   "mimetype": "text/x-python",
   "name": "python",
   "nbconvert_exporter": "python",
   "pygments_lexer": "ipython3",
   "version": "3.9.13"
  }
 },
 "nbformat": 4,
 "nbformat_minor": 5
}
