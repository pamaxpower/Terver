{
 "cells": [
  {
   "cell_type": "markdown",
   "id": "68f287ae",
   "metadata": {},
   "source": [
    "**Задача 4. Даны 3 группы  учеников плавания.\n",
    "В 1 группе время на дистанцию 50 м составляет:\\\n",
    "56, 60, 62, 55, 71, 67, 59, 58, 64, 67\\\n",
    "Вторая группа : 57, 58, 69, 48, 72, 70, 68, 71, 50, 53\\\n",
    "Третья группа: 57, 67, 49, 48, 47, 55, 66, 51, 54**"
   ]
  },
  {
   "cell_type": "markdown",
   "id": "b86c8664",
   "metadata": {},
   "source": [
    "**Решение:**\\\n",
    "По условию задачи нам даны три несвязанные выборки - будем применять критерий Крускала-Уоллиса, функция **kruskal()**"
   ]
  },
  {
   "cell_type": "code",
   "execution_count": 1,
   "id": "74ca4e82",
   "metadata": {},
   "outputs": [
    {
     "name": "stdout",
     "output_type": "stream",
     "text": [
      "KruskalResult(statistic=5.465564058257224, pvalue=0.0650380998590494)\n"
     ]
    }
   ],
   "source": [
    "import numpy as np\n",
    "import scipy.stats as stats\n",
    "\n",
    "x1 = np.array([56, 60, 62, 55, 71, 67, 59, 58, 64, 67])\n",
    "x2 = np.array([57, 58, 69, 48, 72, 70, 68, 71, 50, 53])\n",
    "x3 = np.array([57, 67, 49, 48, 47, 55, 66, 51, 54])\n",
    "\n",
    "print(stats.kruskal(x1,x2,x3))"
   ]
  },
  {
   "cell_type": "markdown",
   "id": "a6d67e47",
   "metadata": {},
   "source": [
    "Рассчетное значение p-value (0,6503) больше принятого нами значения $\\alpha$ (0.05), значит ститистически значимых различий в выборках нет"
   ]
  },
  {
   "cell_type": "markdown",
   "id": "f290162b",
   "metadata": {},
   "source": [
    "**Ответ.** Статистически значимых различий нет. Все группы спортсменов тренируются одинаково хорошо)"
   ]
  }
 ],
 "metadata": {
  "kernelspec": {
   "display_name": "Python 3 (ipykernel)",
   "language": "python",
   "name": "python3"
  },
  "language_info": {
   "codemirror_mode": {
    "name": "ipython",
    "version": 3
   },
   "file_extension": ".py",
   "mimetype": "text/x-python",
   "name": "python",
   "nbconvert_exporter": "python",
   "pygments_lexer": "ipython3",
   "version": "3.9.13"
  }
 },
 "nbformat": 4,
 "nbformat_minor": 5
}
