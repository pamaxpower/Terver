{
 "cells": [
  {
   "cell_type": "markdown",
   "id": "35fd6092",
   "metadata": {},
   "source": [
    "**Задача 2. Исследовалось влияние препарата на уровень давления пациентов. Сначала измерялось давление до приема препарата, потом через 10 минут и через 30 минут. Есть ли статистически значимые различия?\\\n",
    "1е измерение до приема препарата: 150, 160, 165, 145, 155\\\n",
    "2е измерение через 10 минут: 140, 155, 150,  130, 135\\\n",
    "3е измерение через 30 минут: 130, 130, 120, 130, 125**"
   ]
  },
  {
   "cell_type": "markdown",
   "id": "4ef8da04",
   "metadata": {},
   "source": [
    "**Решение:**\\\n",
    "По условию задачи известно, что измерения проводятся для одних и тех же людей: выборки связанные, число выборок больше 3 - логично предположить, что тут надо использовать критерий Фридмана.\\\n",
    "Будем пользоваться встроенной функцией **friedmanchisquare()**"
   ]
  },
  {
   "cell_type": "code",
   "execution_count": 4,
   "id": "ed4e5b7b",
   "metadata": {},
   "outputs": [
    {
     "name": "stdout",
     "output_type": "stream",
     "text": [
      "FriedmanchisquareResult(statistic=9.578947368421062, pvalue=0.00831683351100441)\n"
     ]
    }
   ],
   "source": [
    "import numpy as np\n",
    "import scipy.stats as stats\n",
    "\n",
    "x1 = np.array([150,160,165,145,155])\n",
    "x2 = np.array([140,155,150,130,135])\n",
    "x3 = np.array([130,130,120,130,125])\n",
    "\n",
    "print(stats.friedmanchisquare(x1,x2,x3))"
   ]
  },
  {
   "cell_type": "markdown",
   "id": "9dc8f0d3",
   "metadata": {},
   "source": [
    "Полученное значение p-value (**0.0083**) меньше уровня критической значимости $\\alpha$ (**0.05**), из этого можно сделать вывод, что статистически значимые различия есть"
   ]
  },
  {
   "cell_type": "markdown",
   "id": "a5f1a709",
   "metadata": {},
   "source": [
    "**Ответ.** Есть статистически значимые различия. Препарат влияет (снижает) на давление пациентов"
   ]
  }
 ],
 "metadata": {
  "kernelspec": {
   "display_name": "Python 3 (ipykernel)",
   "language": "python",
   "name": "python3"
  },
  "language_info": {
   "codemirror_mode": {
    "name": "ipython",
    "version": 3
   },
   "file_extension": ".py",
   "mimetype": "text/x-python",
   "name": "python",
   "nbconvert_exporter": "python",
   "pygments_lexer": "ipython3",
   "version": "3.9.13"
  }
 },
 "nbformat": 4,
 "nbformat_minor": 5
}
