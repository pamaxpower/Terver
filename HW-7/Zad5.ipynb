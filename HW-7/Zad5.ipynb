{
 "cells": [
  {
   "cell_type": "markdown",
   "id": "0445afc8",
   "metadata": {},
   "source": [
    "**Задача 5. Заявляется, что партия изготавливается со средним арифметическим 2,5 см. Проверить данную гипотезу, если известно, что размеры изделий подчинены нормальному закону распределения. Объем выборки 10, уровень статистической значимости 5%\n",
    "2.51, 2.35, 2.74, 2.56, 2.40, 2.36, 2.65, 2.7, 2.67, 2.34**"
   ]
  },
  {
   "cell_type": "markdown",
   "id": "04cde073",
   "metadata": {},
   "source": [
    "**Решение:**\\\n",
    "1. Формулируем гипотезу:\n",
    "**H<sub>0</sub> - m = m<sub>0</sub>**\\\n",
    "**H<sub>A</sub> - m $\\not=$ m<sub>0</sub>**\n",
    "Уровень статистической значимости $\\alpha$ принимаем за 0,05\n",
    "\n",
    "2. Выбираем притерий:\n",
    "\n",
    "Так как нам неизвестны ни среднее, ни дисперсия генеральной совокупности, а также выборка мала (до 10 элементов), мы будем использовать критерерий Стьюдента (t-критерий)"
   ]
  },
  {
   "cell_type": "code",
   "execution_count": 11,
   "id": "9a3d96e3",
   "metadata": {},
   "outputs": [],
   "source": [
    "import numpy as np\n",
    "import scipy.stats as stats\n",
    "arr = np.array([2.51, 2.35, 2.74, 2.56, 2.40, 2.36, 2.65, 2.7, 2.67, 2.34])\n",
    "x = 2.5"
   ]
  },
  {
   "cell_type": "markdown",
   "id": "2948cd06",
   "metadata": {},
   "source": [
    "Находим среднее и дисперсию ген.совокупности:"
   ]
  },
  {
   "cell_type": "code",
   "execution_count": 12,
   "id": "304fdf84",
   "metadata": {},
   "outputs": [
    {
     "name": "stdout",
     "output_type": "stream",
     "text": [
      "Среднее арифметическое равно:  2.53\n",
      "Дисперсия равна:  0.02\n"
     ]
    }
   ],
   "source": [
    "m = np.mean(arr)\n",
    "D = np.var(arr, ddof=1)\n",
    "print(f'Среднее арифметическое равно: {m: .2f}\\n'\n",
    "      f'Дисперсия равна: {D: .2f}')"
   ]
  },
  {
   "cell_type": "markdown",
   "id": "e578b515",
   "metadata": {},
   "source": [
    "Считаем значение t-критерия:"
   ]
  },
  {
   "cell_type": "code",
   "execution_count": 13,
   "id": "667744cf",
   "metadata": {},
   "outputs": [
    {
     "name": "stdout",
     "output_type": "stream",
     "text": [
      "Наблюдаемое значение t-критерия равно:  0.5631\n"
     ]
    }
   ],
   "source": [
    "t = (m-x) / np.sqrt(D/len(arr))\n",
    "print(f'Наблюдаемое значение t-критерия равно: {t: .4f}')"
   ]
  },
  {
   "cell_type": "markdown",
   "id": "e403eb4a",
   "metadata": {},
   "source": [
    "Находим табличное значение t-критерия на пересечении $\\alpha = 0.05$ и степени свободы 10-1 = 9\\\n",
    "**$t_{Т} = 1.833$**"
   ]
  },
  {
   "cell_type": "markdown",
   "id": "0747600a",
   "metadata": {},
   "source": [
    "Для нахождение табличного значения t-критерия можно воспользоваться функцией:\n",
    "    "
   ]
  },
  {
   "cell_type": "code",
   "execution_count": 16,
   "id": "da6e00b0",
   "metadata": {},
   "outputs": [
    {
     "name": "stdout",
     "output_type": "stream",
     "text": [
      "Табличное значение t-критерия равно:  1.8331\n"
     ]
    }
   ],
   "source": [
    "tt = stats.t.ppf(0.95, len(arr)-1)\n",
    "print(f'Табличное значение t-критерия равно: {tt: .4f}')"
   ]
  },
  {
   "cell_type": "markdown",
   "id": "55808cfe",
   "metadata": {},
   "source": [
    "**Вывод:** $t_{Т} > t_{Н}$, значит, мы считаем, что $H_{0}$ - верна на уровне значимости $\\alpha = 0.05$"
   ]
  }
 ],
 "metadata": {
  "kernelspec": {
   "display_name": "Python 3 (ipykernel)",
   "language": "python",
   "name": "python3"
  },
  "language_info": {
   "codemirror_mode": {
    "name": "ipython",
    "version": 3
   },
   "file_extension": ".py",
   "mimetype": "text/x-python",
   "name": "python",
   "nbconvert_exporter": "python",
   "pygments_lexer": "ipython3",
   "version": "3.9.13"
  }
 },
 "nbformat": 4,
 "nbformat_minor": 5
}
