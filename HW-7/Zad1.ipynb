{
 "cells": [
  {
   "cell_type": "markdown",
   "id": "02d62407",
   "metadata": {},
   "source": [
    "**Задача 1. Даны две  независимые выборки. Не соблюдается условие нормальности\\\n",
    "x1  380,420, 290\\\n",
    "y1 140,360,200,900\\\n",
    "Сделайте вывод по результатам, полученным с помощью функции**"
   ]
  },
  {
   "cell_type": "markdown",
   "id": "44f1c25f",
   "metadata": {},
   "source": [
    "**Решение:**\\\n",
    "По условию задачи условие нормальности не соблюдается, значит будем использовать непараметрические критерии.\\\n",
    "Нам даны две независимые выбор - это критерий Манна-Уитни.\\\n",
    "Для решения можно использовать встроенную функцию **mannwitheyu()**, уровень статистической значимости $\\alpha$ принимаем за 0,05"
   ]
  },
  {
   "cell_type": "code",
   "execution_count": 5,
   "id": "cade78cd",
   "metadata": {},
   "outputs": [
    {
     "name": "stdout",
     "output_type": "stream",
     "text": [
      "MannwhitneyuResult(statistic=8.0, pvalue=0.6285714285714286)\n"
     ]
    }
   ],
   "source": [
    "import numpy as np\n",
    "import scipy.stats as stats\n",
    "\n",
    "x1 = np.array([380,420,290])\n",
    "y1 = np.array([140,360,200,900])\n",
    "\n",
    "print(stats.mannwhitneyu(x1,y1))"
   ]
  },
  {
   "cell_type": "markdown",
   "id": "a66f5929",
   "metadata": {},
   "source": [
    "Рассчетное значение p-value (**0,6286**) больше принятого нами значения $\\alpha$ (**0.05**), значит ститистически значимых различий в выборках нет"
   ]
  },
  {
   "cell_type": "markdown",
   "id": "cefd4704",
   "metadata": {},
   "source": [
    "**Ответ.** Статистически значимых различий нет"
   ]
  }
 ],
 "metadata": {
  "kernelspec": {
   "display_name": "Python 3 (ipykernel)",
   "language": "python",
   "name": "python3"
  },
  "language_info": {
   "codemirror_mode": {
    "name": "ipython",
    "version": 3
   },
   "file_extension": ".py",
   "mimetype": "text/x-python",
   "name": "python",
   "nbconvert_exporter": "python",
   "pygments_lexer": "ipython3",
   "version": "3.9.13"
  }
 },
 "nbformat": 4,
 "nbformat_minor": 5
}
