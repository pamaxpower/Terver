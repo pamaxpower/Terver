{
 "cells": [
  {
   "cell_type": "markdown",
   "id": "3e51d9d5",
   "metadata": {},
   "source": [
    "**Задача 3. Исследовалось влияние препарата на уровень давления пациентов. Сначала измерялось давление до приема препарата, потом через 10 минут и через 30 минут. Есть ли статистически значимые различия?\\\n",
    "1е измерение до приема препарата: 150, 160, 165, 145, 155\\\n",
    "2е измерение через 10 минут: 140, 155, 150,  130, 135**"
   ]
  },
  {
   "cell_type": "markdown",
   "id": "66b32394",
   "metadata": {},
   "source": [
    "**Решение:**\n",
    "По условию задачи даны две связанные выборки, следовательно, будем использовать критерий Уилкокстона, функция **wilcoxon()**"
   ]
  },
  {
   "cell_type": "code",
   "execution_count": 2,
   "id": "51409cf5",
   "metadata": {},
   "outputs": [
    {
     "name": "stdout",
     "output_type": "stream",
     "text": [
      "WilcoxonResult(statistic=0.0, pvalue=0.0625)\n"
     ]
    }
   ],
   "source": [
    "import numpy as np\n",
    "import scipy.stats as stats\n",
    "\n",
    "x1 = np.array([150,160,165,145,155])\n",
    "x2 = np.array([140,155,150,130,135])\n",
    "\n",
    "print(stats.wilcoxon(x1,x2))"
   ]
  },
  {
   "cell_type": "markdown",
   "id": "9d2d148a",
   "metadata": {},
   "source": [
    "Полученное значение p-value (**0.0625**) больше уровня критической значимости $\\alpha$ (**0.05**), из этого можно сделать вывод, что статистически значимых различия нет."
   ]
  },
  {
   "cell_type": "markdown",
   "id": "6c16441c",
   "metadata": {},
   "source": [
    "**Ответ.** Статистически значимых различий в исследованиях нет, препарат не оказывает влияние на дваление пациентов."
   ]
  },
  {
   "cell_type": "markdown",
   "id": "39e3fde4",
   "metadata": {},
   "source": [
    "**Общий вывод по 2 и 3 задаче**. По результатам исследования группы пациентов я пришел к выводу, что исследуемый препарат не оказывает влияние на давление пациентов через 10 минут после его приема. но спустя 30 минут после приема лекартства давление у всех пациентов снижается"
   ]
  }
 ],
 "metadata": {
  "kernelspec": {
   "display_name": "Python 3 (ipykernel)",
   "language": "python",
   "name": "python3"
  },
  "language_info": {
   "codemirror_mode": {
    "name": "ipython",
    "version": 3
   },
   "file_extension": ".py",
   "mimetype": "text/x-python",
   "name": "python",
   "nbconvert_exporter": "python",
   "pygments_lexer": "ipython3",
   "version": "3.9.13"
  }
 },
 "nbformat": 4,
 "nbformat_minor": 5
}
