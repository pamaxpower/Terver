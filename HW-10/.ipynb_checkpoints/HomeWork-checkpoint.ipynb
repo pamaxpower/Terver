{
 "cells": [
  {
   "cell_type": "markdown",
   "id": "58a6b2ff",
   "metadata": {},
   "source": [
    "**Провести дисперсионный анализ для определения того, есть ли различия среднего роста среди взрослых футболистов, хоккеистов и штангистов.\\\n",
    "Даны значения роста в трех группах случайно выбранных спортсменов:\\\n",
    "Футболисты: 173, 175, 180, 178, 177, 185, 183, 182\\\n",
    "Хоккеисты: 177, 179, 180, 188, 177, 172, 171, 184, 180\\\n",
    "Штангисты: 172, 173, 169, 177, 166, 180, 178, 177, 172, 166, 170**"
   ]
  },
  {
   "cell_type": "code",
   "execution_count": 1,
   "id": "64f1f2af",
   "metadata": {},
   "outputs": [],
   "source": [
    "import numpy as np\n",
    "import scipy.stats as st\n",
    "\n",
    "\n",
    "y1 = np.array([173, 175, 180, 178, 177, 185, 183, 182])\n",
    "y2 = np.array([177, 179, 180, 188, 177, 172, 171, 184, 180])\n",
    "y3 = np.array([172, 173, 169, 177, 166, 180, 178, 177, 172, 166, 170])"
   ]
  },
  {
   "cell_type": "markdown",
   "id": "572b770b",
   "metadata": {},
   "source": [
    "Проверим все выборки на нормальность:"
   ]
  },
  {
   "cell_type": "code",
   "execution_count": 2,
   "id": "898f70a0",
   "metadata": {},
   "outputs": [
    {
     "name": "stdout",
     "output_type": "stream",
     "text": [
      "ShapiroResult(statistic=0.9775082468986511, pvalue=0.9495404362678528),\n",
      "ShapiroResult(statistic=0.9579196572303772, pvalue=0.7763139009475708),\n",
      "ShapiroResult(statistic=0.9386808276176453, pvalue=0.5051165223121643)\n"
     ]
    }
   ],
   "source": [
    "sh1 = st.shapiro(y1)\n",
    "sh2 = st.shapiro(y2)\n",
    "sh3 = st.shapiro(y3)\n",
    "print(f'{sh1},\\n{sh2},\\n{sh3}')"
   ]
  },
  {
   "cell_type": "markdown",
   "id": "f6d48e0d",
   "metadata": {},
   "source": [
    "p-value теста Шапиро для всех выборок больше $\\alpha$ (0.05), значит, все выборки имеют нормальное распределение"
   ]
  },
  {
   "cell_type": "markdown",
   "id": "3db9358c",
   "metadata": {},
   "source": [
    "Проверим все выборки на равенство дисперсий:"
   ]
  },
  {
   "cell_type": "code",
   "execution_count": 3,
   "id": "b88744c1",
   "metadata": {},
   "outputs": [
    {
     "name": "stdout",
     "output_type": "stream",
     "text": [
      "BartlettResult(statistic=0.4640521043406442, pvalue=0.7929254656083131)\n"
     ]
    }
   ],
   "source": [
    "print(st.bartlett(y1,y2,y3))"
   ]
  },
  {
   "cell_type": "markdown",
   "id": "e98c2b17",
   "metadata": {},
   "source": [
    "p-value для теста Бартлетта больше $\\alpha$ (0.05), значит, все выборки имеют однородные дисперсии"
   ]
  },
  {
   "cell_type": "markdown",
   "id": "2c07a1d1",
   "metadata": {},
   "source": [
    "Условия применимости дисперсионного анализа выполнены, можно приступать к самому анализу."
   ]
  },
  {
   "cell_type": "markdown",
   "id": "5edb4d33",
   "metadata": {},
   "source": [
    "Формируем гипотезы:\\\n",
    "$H_0: \\mu1 = \\mu2 = \\mu3$, т.е. средний рост спортсмена не зависит от выбранного им спорта\\\n",
    "$H_1: \\mu1 ≠ \\mu2 ≠ \\mu3$ - рост спортсемена зависит от спорта, которым он занимается"
   ]
  },
  {
   "cell_type": "code",
   "execution_count": 4,
   "id": "a82822a4",
   "metadata": {},
   "outputs": [
    {
     "name": "stdout",
     "output_type": "stream",
     "text": [
      "Средние для каждой выборки:\n",
      "y1=179.125,\n",
      "y2=178.66666666666666,\n",
      "y3=172.72727272727272\n"
     ]
    }
   ],
   "source": [
    "k = 3   # кол-во групп\n",
    "n = len(y1)+len(y2)+len(y3)     # число всех элементов во всех группах\n",
    "\n",
    "ym1 = np.mean(y1)\n",
    "ym2 = np.mean(y2)\n",
    "ym3 = np.mean(y3)\n",
    "print(f'Средние для каждой выборки:\\ny1={ym1},\\ny2={ym2},\\ny3={ym3}')\n"
   ]
  },
  {
   "cell_type": "code",
   "execution_count": 5,
   "id": "0c4768d0",
   "metadata": {},
   "outputs": [
    {
     "name": "stdout",
     "output_type": "stream",
     "text": [
      "Среднее по всех значениям групп: 176.46428571428572\n"
     ]
    }
   ],
   "source": [
    "total = np.concatenate([y1,y2,y3])\n",
    "ymt = np.mean(total)\n",
    "print(f'Среднее по всех значениям групп: {ymt}')"
   ]
  },
  {
   "cell_type": "code",
   "execution_count": 6,
   "id": "c1c3a827",
   "metadata": {},
   "outputs": [
    {
     "name": "stdout",
     "output_type": "stream",
     "text": [
      "Сумма квадратов отклонений от общего среднего: 830.9642857142854\n"
     ]
    }
   ],
   "source": [
    "s = np.sum((total - ymt)**2)\n",
    "print(f'Сумма квадратов отклонений от общего среднего: {s}')"
   ]
  },
  {
   "cell_type": "code",
   "execution_count": 7,
   "id": "3614ed01",
   "metadata": {},
   "outputs": [
    {
     "name": "stdout",
     "output_type": "stream",
     "text": [
      "Сумма квадратов отклонений средних групповых от общего среднего: 253.9074675324678\n"
     ]
    }
   ],
   "source": [
    "sf = np.sum((ym1-ymt)**2)*len(y1) + np.sum((ym2-ymt)**2)*len(y2) + np.sum((ym3-ymt)**2)*len(y3)\n",
    "print(f'Сумма квадратов отклонений средних групповых от общего среднего: {sf}')"
   ]
  },
  {
   "cell_type": "code",
   "execution_count": 8,
   "id": "6ae2e1d0",
   "metadata": {},
   "outputs": [
    {
     "name": "stdout",
     "output_type": "stream",
     "text": [
      "Остаточная сумма отклонений: 577.0568181818182\n"
     ]
    }
   ],
   "source": [
    "so = np.sum((y1-ym1)**2) + np.sum((y2-ym2)**2) + np.sum((y3-ym3)**2)\n",
    "print(f'Остаточная сумма отклонений: {so}')\n"
   ]
  },
  {
   "cell_type": "code",
   "execution_count": 9,
   "id": "f5476289",
   "metadata": {},
   "outputs": [
    {
     "name": "stdout",
     "output_type": "stream",
     "text": [
      "Факторная дисперсия равна: 126.9537337662339\n",
      "Остаточная дисперсия равна: 23.08227272727273\n"
     ]
    }
   ],
   "source": [
    "Df = sf / (k-1)\n",
    "print(f'Факторная дисперсия равна: {Df}')\n",
    "\n",
    "Do = so / (n-k)\n",
    "print(f'Остаточная дисперсия равна: {Do}')"
   ]
  },
  {
   "cell_type": "code",
   "execution_count": 10,
   "id": "29e3571e",
   "metadata": {},
   "outputs": [
    {
     "name": "stdout",
     "output_type": "stream",
     "text": [
      "Наблюдаемый критерий Фишера: 5.500053450812598\n"
     ]
    }
   ],
   "source": [
    "Fn = Df/Do\n",
    "print(f'Наблюдаемый критерий Фишера: {Fn}')"
   ]
  },
  {
   "cell_type": "markdown",
   "id": "41ed2a4a",
   "metadata": {},
   "source": [
    "Найдем табличное значение критерия Фишера:"
   ]
  },
  {
   "cell_type": "code",
   "execution_count": 11,
   "id": "a07a133a",
   "metadata": {},
   "outputs": [
    {
     "name": "stdout",
     "output_type": "stream",
     "text": [
      "Табличное значение критерия Фишера: 3.3851899614491687\n"
     ]
    }
   ],
   "source": [
    "Ft = st.f.ppf(1-0.05, k-1, n-k)\n",
    "print(f'Табличное значение критерия Фишера: {Ft}')"
   ]
  },
  {
   "cell_type": "markdown",
   "id": "2f5b62f9",
   "metadata": {},
   "source": [
    "Вывод: $F_н > F_т$, значит, что отличие роста является статистически значимым"
   ]
  },
  {
   "cell_type": "markdown",
   "id": "b7fabac6",
   "metadata": {},
   "source": [
    "Эту же задачу можно решить встроенным методом библиотеки scipy"
   ]
  },
  {
   "cell_type": "code",
   "execution_count": 12,
   "id": "8bf60b1b",
   "metadata": {},
   "outputs": [
    {
     "name": "stdout",
     "output_type": "stream",
     "text": [
      "F_onewayResult(statistic=5.500053450812596, pvalue=0.010482206918698694)\n"
     ]
    }
   ],
   "source": [
    "f = st.f_oneway(y1,y2,y3)\n",
    "print(f)"
   ]
  },
  {
   "cell_type": "markdown",
   "id": "168acd08",
   "metadata": {},
   "source": [
    "Вывод: Рассчетное значение p-value (0.0105) меньше принятого нами значения $\\alpha$ (0.05), поэтому есть статистичеки значимые различия: принимаем $H_1$."
   ]
  }
 ],
 "metadata": {
  "kernelspec": {
   "display_name": "Python 3 (ipykernel)",
   "language": "python",
   "name": "python3"
  },
  "language_info": {
   "codemirror_mode": {
    "name": "ipython",
    "version": 3
   },
   "file_extension": ".py",
   "mimetype": "text/x-python",
   "name": "python",
   "nbconvert_exporter": "python",
   "pygments_lexer": "ipython3",
   "version": "3.9.13"
  }
 },
 "nbformat": 4,
 "nbformat_minor": 5
}
