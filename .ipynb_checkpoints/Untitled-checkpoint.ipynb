{
 "cells": [
  {
   "cell_type": "markdown",
   "id": "3a7234b8",
   "metadata": {},
   "source": [
    "\"\"\"\n",
    "Встроенная функция для построения линейной регрессии\n",
    "\"\"\""
   ]
  },
  {
   "cell_type": "code",
   "execution_count": 42,
   "id": "90b387db",
   "metadata": {
    "scrolled": true
   },
   "outputs": [
    {
     "name": "stdout",
     "output_type": "stream",
     "text": [
      "[[27]\n",
      " [37]\n",
      " [42]\n",
      " [48]\n",
      " [57]\n",
      " [56]\n",
      " [77]\n",
      " [80]]\n",
      "0.17147009966777427\n",
      "[0.03874585]\n",
      "[1.21760797 1.60506645 1.79879568 2.03127076 2.37998339 2.34123754\n",
      " 3.15490033 3.27113787]\n"
     ]
    },
    {
     "data": {
      "text/plain": [
       "<function matplotlib.pyplot.show(close=None, block=None)>"
      ]
     },
     "execution_count": 42,
     "metadata": {},
     "output_type": "execute_result"
    },
    {
     "data": {
      "image/png": "[encoded data removed]",
      "text/plain": [
       "<Figure size 640x480 with 1 Axes>"
      ]
     },
     "metadata": {},
     "output_type": "display_data"
    }
   ],
   "source": [
    "import numpy as np\n",
    "from sklearn.linear_model import LinearRegression\n",
    "import matplotlib.pyplot as plt\n",
    "import pandas as pd\n",
    "import scipy.stats as stats\n",
    "\n",
    "model = LinearRegression()  # задаем мат.модель\n",
    "\n",
    "s = np.array([27,37,42,48,57,56,77,80])             # площадь квартиры\n",
    "p = np.array([1.2,1.6,1.8,1.8,2.5,2.6,3,3.3])       # стоимость\n",
    "\n",
    "ss = s.reshape((-1,1))    # создаем матрицу 8 строк, 1 столбец на основании массива s\n",
    "print(ss)\n",
    "\n",
    "regres = model.fit(ss,p) # подбираем коэффициенты\n",
    "\n",
    "print(regres.intercept_)    # выводим интерсепт\n",
    "print(regres.coef_)         # выводим коэффициенты\n",
    "\n",
    "y_pred = model.predict(ss)   # считаем предиктовые значения p\n",
    "print(y_pred)\n",
    "\n",
    "plt.scatter(ss,p)\n",
    "plt.plot(ss, 0.1715 + 0.0387*ss)\n",
    "plt.show"
   ]
  },
  {
   "cell_type": "code",
   "execution_count": 33,
   "id": "eece7a1d",
   "metadata": {},
   "outputs": [
    {
     "name": "stdout",
     "output_type": "stream",
     "text": [
      "   реальные  предсказанные\n",
      "0       1.2       1.217608\n",
      "1       1.6       1.605066\n",
      "2       1.8       1.798796\n",
      "3       1.8       2.031271\n",
      "4       2.5       2.379983\n",
      "5       2.6       2.341238\n",
      "6       3.0       3.154900\n",
      "7       3.3       3.271138\n"
     ]
    }
   ],
   "source": [
    "df = pd.DataFrame({'реальные': p, 'предсказанные': y_pred})\n",
    "print(df)"
   ]
  },
  {
   "cell_type": "markdown",
   "id": "ec549982",
   "metadata": {},
   "source": [
    "Оценка полученной модели:\\\n",
    "\\\n",
    "**Коэффициент детерминации** $R^2 = r^2$, где r - коэффициент корреляции\n"
   ]
  },
  {
   "cell_type": "code",
   "execution_count": 40,
   "id": "e5bf6802",
   "metadata": {},
   "outputs": [
    {
     "name": "stdout",
     "output_type": "stream",
     "text": [
      "Коэффициент корреляции: 0.9785768205829909\n",
      "Коэффициент детерминации: 0.9576125937823151\n",
      "0.9576125937823151\n"
     ]
    }
   ],
   "source": [
    "r = np.corrcoef(s,p)[1,0]  # находим коэф.корреляции\n",
    "print(f'Коэффициент корреляции: {r}')\n",
    "print(f'Коэффициент детерминации: {r**2}')  # коэф.детерминации\n",
    "\n",
    "print(regres.score(ss,p))  # коэф.детерминации из мат.модели"
   ]
  },
  {
   "cell_type": "markdown",
   "id": "b2e4bc07",
   "metadata": {},
   "source": [
    "Это означает, что приблизительно 95.8% изменчивости описано с помощью подобранной математической модели"
   ]
  },
  {
   "cell_type": "markdown",
   "id": "d63f0f9f",
   "metadata": {},
   "source": [
    "**Критерий Фишера** \\\n",
    "**$F = \\frac {Msf}{Mso}$**, где\\\n",
    "Msf - фактическая сумма отклонений на одну степень свободы: Msf = Ssf / df1\n",
    "Mso - остаточная сумма квадратных отклонений на 1 степень свободы; Mso = Sso / df2\n",
    "\n",
    "df1 - степень свободы числителя: df1 = p-1, где p-число параметров (у нас их 2: цена и площадь)\n",
    "df2 - степень свободы знаменателя: df2 = n-p, где n-число парных измерений(длина массива)\n",
    "\n",
    "Ssf - сумма квадратных отклонений фактическая\n",
    "Sso - сумма квадратных отклонений остаточная"
   ]
  },
  {
   "cell_type": "code",
   "execution_count": 35,
   "id": "f78b9452",
   "metadata": {},
   "outputs": [
    {
     "name": "stdout",
     "output_type": "stream",
     "text": [
      "Ssf=3.614987541528238\n",
      "Ss0=0.1600124584717606\n",
      "Msf=3.614987541528238\n",
      "Mfo=0.026668743078626767\n",
      "Критерий Фишера: 135.55147803067672\n"
     ]
    }
   ],
   "source": [
    "df1 = 2 - 1\n",
    "df2 = 8 - 2\n",
    "Ssf = sum((y_pred - np.mean(p))**2)\n",
    "print(f'Ssf={Ssf}')\n",
    "Sso = np.sum((p-y_pred)**2)\n",
    "print(f'Ss0={Sso}')\n",
    "Msf = Ssf / df1\n",
    "print(f'Msf={Msf}')\n",
    "Mso = Sso / df2\n",
    "print(f'Mfo={Mso}')\n",
    "\n",
    "F = Msf / Mso\n",
    "print(f'Критерий Фишера: {F}')"
   ]
  },
  {
   "cell_type": "code",
   "execution_count": 36,
   "id": "25ffc954",
   "metadata": {},
   "outputs": [
    {
     "name": "stdout",
     "output_type": "stream",
     "text": [
      "Критерий Фишера табличный: 5.987377607273699\n"
     ]
    }
   ],
   "source": [
    "Ft = stats.f.ppf(1-0.05, 1, 6)\n",
    "print(f'Критерий Фишера табличный: {Ft}')"
   ]
  },
  {
   "cell_type": "markdown",
   "id": "af8a8272",
   "metadata": {},
   "source": [
    "Критическое значение 5.99, а расчетное 135.55, т.е. попадает в область принятия гипотезы $H_1$. Т.е. наша модель признана статистически значимой на уровне α= 0.05"
   ]
  },
  {
   "cell_type": "markdown",
   "id": "e1ff856c",
   "metadata": {},
   "source": [
    "**Оценка значимости отдельных коэффициентов. Критерий Стьюдента**\\\n",
    "$tb_1 = \\frac {b_1}{s_b}$\\\n",
    "$tb_0 = \\frac {b_0}{s_0}$\\\n",
    "sb и s0 - стандартные ошибки коэффициентов\n"
   ]
  },
  {
   "cell_type": "code",
   "execution_count": 45,
   "id": "9424936a",
   "metadata": {},
   "outputs": [
    {
     "name": "stdout",
     "output_type": "stream",
     "text": [
      "Стандартная ошибка для коэффициента b1: 0.0033279211856704735\n",
      "Стандартная ошибка для коэффициента b0: 0.18558942531859646\n",
      "Критерий Стьюдента для b1: 11.642658536155778\n",
      "Критерий Стьюдента для b0: 0.9239217125293739\n",
      "Критерий Стьюдента табличный: 2.4469118487916806\n"
     ]
    }
   ],
   "source": [
    "n = 8\n",
    "\n",
    "sb = np.sqrt(Mso / np.sum((s-np.mean(s))**2))\n",
    "print(f'Стандартная ошибка для коэффициента b1: {sb}')\n",
    "s0 = np.sqrt((Mso * np.sum(s**2))/(n*sum((s-np.mean(s))**2)))\n",
    "print(f'Стандартная ошибка для коэффициента b0: {s0}')\n",
    "\n",
    "b1 = 0.03874585\n",
    "b0 = 0.1714700996677  # интерсепт\n",
    "\n",
    "\n",
    "tb1 = b1 / sb\n",
    "print(f'Критерий Стьюдента для b1: {tb1}')\n",
    "tb0 = b0 / s0\n",
    "print(f'Критерий Стьюдента для b0: {tb0}')\n",
    "\n",
    "tt = stats.t.ppf(1-0.05/2, 6)\n",
    "print(f'Критерий Стьюдента табличный: {tt}')"
   ]
  },
  {
   "cell_type": "markdown",
   "id": "966f6edb",
   "metadata": {},
   "source": [
    "Критерий Стьюдента для коэффициента $b_0$,  равный   0.924, попадает в область принятия нулевой гипотезы, т.е.  коэффициент не является статистически значимым,  а вот tb1  = 11.64 для коэффициента $b_1$ является статистически значимым."
   ]
  },
  {
   "cell_type": "code",
   "execution_count": null,
   "id": "bc1a2939",
   "metadata": {},
   "outputs": [],
   "source": []
  }
 ],
 "metadata": {
  "kernelspec": {
   "display_name": "Python 3 (ipykernel)",
   "language": "python",
   "name": "python3"
  },
  "language_info": {
   "codemirror_mode": {
    "name": "ipython",
    "version": 3
   },
   "file_extension": ".py",
   "mimetype": "text/x-python",
   "name": "python",
   "nbconvert_exporter": "python",
   "pygments_lexer": "ipython3",
   "version": "3.9.13"
  }
 },
 "nbformat": 4,
 "nbformat_minor": 5
}
