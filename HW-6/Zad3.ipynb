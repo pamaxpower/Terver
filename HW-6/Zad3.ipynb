{
 "cells": [
  {
   "cell_type": "markdown",
   "id": "37129adc",
   "metadata": {},
   "source": [
    "**Задача 3. Рост дочерей 175, 167, 154, 174, 178, 148, 160, 167, 169, 170 \\\n",
    "Рост матерей  178, 165, 165, 173, 168, 155, 160, 164, 178, 175 \\\n",
    "Используя эти данные построить 95% доверительный интервал для разности среднего роста родителей и детей.**"
   ]
  },
  {
   "cell_type": "markdown",
   "id": "e6803d2d",
   "metadata": {},
   "source": [
    "**Решение:**\\\n",
    "В этом случае проводится интервальная оценка для разности двех выборок. Доверительный интервал будет равен:\\\n",
    "$ \\Delta \\pm t_{ \\frac {\\alpha}{2}} * S_{\\Delta} $, где $S_{\\Delta}$ - стандартная ошибка разности.\\\n",
    "$S_{\\Delta} = \\sqrt{\\frac {D}{n_{1}} + \\frac {D}{n_{2}}}$, где $D$ - дисперсия выборок: $ D = \\frac{1}{2}(D_{1}+D_{2})$\\\n",
    "$\\Delta = \\overline{X_{1}} + \\overline{X_{2}}$ - разность выборок"
   ]
  },
  {
   "cell_type": "code",
   "execution_count": 7,
   "id": "0397df85",
   "metadata": {},
   "outputs": [],
   "source": [
    "import numpy as np\n",
    "import scipy.stats as stats\n",
    "\n",
    "mother = np.array([178, 165, 165, 173, 168, 155, 160, 164, 178, 175])\n",
    "daugther = np.array([175, 167, 154, 174, 178, 148, 160, 167, 169, 170])"
   ]
  },
  {
   "cell_type": "markdown",
   "id": "961ef9a4",
   "metadata": {},
   "source": [
    "1. Находим среднее арифметическое каждой выборки и вычисляем их разность:"
   ]
  },
  {
   "cell_type": "code",
   "execution_count": 9,
   "id": "270ead35",
   "metadata": {},
   "outputs": [
    {
     "name": "stdout",
     "output_type": "stream",
     "text": [
      "Средний рост матерей: 168.1\n",
      "Средний рост дочерей: 166.2\n",
      "Разность по выборкам:  1.9\n"
     ]
    }
   ],
   "source": [
    "x1 = np.mean(mother)\n",
    "x2 = np.mean(daugther)\n",
    "delta = x1 - x2\n",
    "print(f'Средний рост матерей: {x1}\\n'\n",
    "      f'Средний рост дочерей: {x2}\\n'\n",
    "      f'Разность по выборкам: {delta: .1f}')"
   ]
  },
  {
   "cell_type": "markdown",
   "id": "bca28dbf",
   "metadata": {},
   "source": [
    "2. Находим несмещенную дисперсию каждой выборки и стандартную ошибку разности:"
   ]
  },
  {
   "cell_type": "code",
   "execution_count": 33,
   "id": "ed64fcd4",
   "metadata": {},
   "outputs": [
    {
     "name": "stdout",
     "output_type": "stream",
     "text": [
      "Стандартная ошибка разности равна:  3.8880\n"
     ]
    }
   ],
   "source": [
    "d1 = np.var(mother, ddof=1)\n",
    "d2 = np.var(daugther, ddof=1)\n",
    "D = (d1 + d2) / 2\n",
    "\n",
    "SE = np.sqrt(D/len(mother) + D/len(daugther))\n",
    "print(f'Стандартная ошибка разности равна: {SE: .4f}')"
   ]
  },
  {
   "cell_type": "markdown",
   "id": "07731099",
   "metadata": {},
   "source": [
    "3. Ищем критерий Стьюдента:"
   ]
  },
  {
   "cell_type": "code",
   "execution_count": 34,
   "id": "798fd377",
   "metadata": {},
   "outputs": [
    {
     "name": "stdout",
     "output_type": "stream",
     "text": [
      "Критерий Стьюдента равен:  2.1009\n"
     ]
    }
   ],
   "source": [
    "df = len(mother)-1 + len(daugther)-1\n",
    "t = np.abs(stats.t.ppf(1-(0.05/2), df))\n",
    "print(f'Критерий Стьюдента равен: {t: .4f}')"
   ]
  },
  {
   "cell_type": "markdown",
   "id": "e7dc0051",
   "metadata": {},
   "source": [
    "4. Вычисляем доверительный интервал:"
   ]
  },
  {
   "cell_type": "code",
   "execution_count": 35,
   "id": "50e762f6",
   "metadata": {},
   "outputs": [
    {
     "name": "stdout",
     "output_type": "stream",
     "text": [
      "Доверительный интервал равен: [-10.07 ;  6.27]\n"
     ]
    }
   ],
   "source": [
    "l = delta - t * SE\n",
    "u = delta + t * SE\n",
    "print(f'Доверительный интервал равен: [{l: .2f} ; {u: .2f}]')"
   ]
  },
  {
   "cell_type": "markdown",
   "id": "c8aac824",
   "metadata": {},
   "source": [
    "**Ответ.**\\\n",
    "95% доверительный интервал для разности среднего роста метерей и их дочерей равен [-10.07 ;  6.27]"
   ]
  }
 ],
 "metadata": {
  "kernelspec": {
   "display_name": "Python 3 (ipykernel)",
   "language": "python",
   "name": "python3"
  },
  "language_info": {
   "codemirror_mode": {
    "name": "ipython",
    "version": 3
   },
   "file_extension": ".py",
   "mimetype": "text/x-python",
   "name": "python",
   "nbconvert_exporter": "python",
   "pygments_lexer": "ipython3",
   "version": "3.9.13"
  }
 },
 "nbformat": 4,
 "nbformat_minor": 5
}
