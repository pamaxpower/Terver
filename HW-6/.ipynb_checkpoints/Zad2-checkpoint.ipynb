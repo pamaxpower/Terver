{
 "cells": [
  {
   "cell_type": "markdown",
   "id": "82d467ee",
   "metadata": {},
   "source": [
    "**Задача 2. В результате 10 независимых измерений некоторой величины X, выполненных с одинаковой точностью, получены опытные данные:\n",
    "6.9, 6.1, 6.2, 6.8, 7.5, 6.3, 6.4, 6.9, 6.7, 6.1\n",
    "Предполагая, что результаты измерений подчинены нормальному закону распределения вероятностей, оценить истинное значение величины X при помощи доверительного интервала, покрывающего это значение с доверительной вероятностью 0,95.**"
   ]
  },
  {
   "cell_type": "markdown",
   "id": "418dd85a",
   "metadata": {},
   "source": [
    "**Решение:**\\\n",
    "В условии задания неизвестно среднее квадратичное отклонение $\\sigma$, поэтому будем применять формулу:\\\n",
    "$ X \\pm t_{ \\frac {\\alpha}{2}} * \\frac {\\sigma}{\\sqrt{n}} $"
   ]
  },
  {
   "cell_type": "code",
   "execution_count": 7,
   "id": "d4a2ca0b",
   "metadata": {},
   "outputs": [],
   "source": [
    "import numpy as np\n",
    "import scipy.stats as stats\n",
    "\n",
    "test = np.array([6.9, 6.1, 6.2, 6.8, 7.5, 6.3, 6.4, 6.9, 6.7, 6.1])\n"
   ]
  },
  {
   "cell_type": "markdown",
   "id": "9696f20c",
   "metadata": {},
   "source": [
    "Найдем среднее арифметическое для выборки и несмещенную дисперсию:"
   ]
  },
  {
   "cell_type": "code",
   "execution_count": 8,
   "id": "4c00bf75",
   "metadata": {},
   "outputs": [
    {
     "name": "stdout",
     "output_type": "stream",
     "text": [
      "Средне арифметическое равно:  6.59, а дисперсия:  0.20\n"
     ]
    }
   ],
   "source": [
    "x = np.mean(test)\n",
    "D = np.var(test, ddof=1)\n",
    "print(f'Средне арифметическое равно: {x: .2f}, а дисперсия: {D: .2f}')"
   ]
  },
  {
   "cell_type": "markdown",
   "id": "05afc2da",
   "metadata": {},
   "source": [
    "Найдем критерий Стьюдента $t$ и вычислим доверительный интервал:"
   ]
  },
  {
   "cell_type": "code",
   "execution_count": 11,
   "id": "674fc4f9",
   "metadata": {},
   "outputs": [
    {
     "name": "stdout",
     "output_type": "stream",
     "text": [
      "Критерий Стьюдента:  2.2622\n"
     ]
    }
   ],
   "source": [
    "t = np.abs(stats.t.ppf((1-0.95)/2, len(test)-1))\n",
    "print(f'Критерий Стьюдента: {t: .4f}')"
   ]
  },
  {
   "cell_type": "code",
   "execution_count": 14,
   "id": "618de7db",
   "metadata": {},
   "outputs": [
    {
     "name": "stdout",
     "output_type": "stream",
     "text": [
      "Доверительный интервал равен: [ 6.27 ;  6.91]\n"
     ]
    }
   ],
   "source": [
    "l = x - t * np.sqrt(D/len(test))\n",
    "u = x + t * np.sqrt(D/len(test))\n",
    "print(f'Доверительный интервал равен: [{l: .2f} ; {u: .2f}]')"
   ]
  },
  {
   "cell_type": "markdown",
   "id": "117ae10f",
   "metadata": {},
   "source": [
    "**Ответ.**\\\n",
    "95% доверительный интервал для истинного X равен: [ 6.27 ;  6.91]"
   ]
  }
 ],
 "metadata": {
  "kernelspec": {
   "display_name": "Python 3 (ipykernel)",
   "language": "python",
   "name": "python3"
  },
  "language_info": {
   "codemirror_mode": {
    "name": "ipython",
    "version": 3
   },
   "file_extension": ".py",
   "mimetype": "text/x-python",
   "name": "python",
   "nbconvert_exporter": "python",
   "pygments_lexer": "ipython3",
   "version": "3.9.13"
  }
 },
 "nbformat": 4,
 "nbformat_minor": 5
}
