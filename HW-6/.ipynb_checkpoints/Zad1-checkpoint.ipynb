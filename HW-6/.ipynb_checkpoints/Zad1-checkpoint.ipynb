{
 "cells": [
  {
   "cell_type": "markdown",
   "id": "c6d2e1b3",
   "metadata": {},
   "source": [
    "**Задача 1. Известно, что генеральная совокупность распределена нормально со средним квадратическим отклонением, равным 16.\n",
    "Найти доверительный интервал для оценки математического ожидания a с надежностью 0.95, если выборочная средняя M = 80, а объем выборки n = 256.**"
   ]
  },
  {
   "cell_type": "markdown",
   "id": "ddb9e285",
   "metadata": {},
   "source": [
    "**Решение:**\\\n",
    "По условию задачи нам известно среднее квадратичное, значит будем использовать формулу:\\\n",
    "\n",
    "$ X \\pm Z_{ \\frac {\\alpha}{2}} * \\frac {\\sigma}{\\sqrt{n}} $, где $X = M$, а $Z_{ \\frac {\\alpha}{2}} = 1,96$\n"
   ]
  },
  {
   "cell_type": "code",
   "execution_count": 18,
   "id": "e0840fb7",
   "metadata": {},
   "outputs": [
    {
     "name": "stdout",
     "output_type": "stream",
     "text": [
      "Доверительный интервал равен: [78.04 ; 81.96]\n"
     ]
    }
   ],
   "source": [
    "import numpy as np\n",
    "import scipy.stats as stats\n",
    "\n",
    "z = 1.96\n",
    "si = 16\n",
    "X = 80\n",
    "n = 256\n",
    "\n",
    "U = X + z * (si / np.sqrt(n))\n",
    "L = X - z * (si / np.sqrt(n))\n",
    "print(f'Доверительный интервал равен: [{L} ; {U}]')"
   ]
  },
  {
   "cell_type": "markdown",
   "id": "cf643d79",
   "metadata": {},
   "source": [
    "**Ответ.** [78.04 ; 81.96]"
   ]
  }
 ],
 "metadata": {
  "kernelspec": {
   "display_name": "Python 3 (ipykernel)",
   "language": "python",
   "name": "python3"
  },
  "language_info": {
   "codemirror_mode": {
    "name": "ipython",
    "version": 3
   },
   "file_extension": ".py",
   "mimetype": "text/x-python",
   "name": "python",
   "nbconvert_exporter": "python",
   "pygments_lexer": "ipython3",
   "version": "3.9.13"
  }
 },
 "nbformat": 4,
 "nbformat_minor": 5
}
