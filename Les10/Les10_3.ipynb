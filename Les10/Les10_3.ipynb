{
 "cells": [
  {
   "cell_type": "markdown",
   "id": "cf08aa98",
   "metadata": {},
   "source": [
    "ФакA1, ФакB1: 57,59\\\n",
    "ФакA1, ФакB2: 56,58\\\n",
    "ФакA2, ФакB1: 32,34\\\n",
    "ФакA2, ФакB2: 71,71"
   ]
  },
  {
   "cell_type": "code",
   "execution_count": 1,
   "id": "72dc4646",
   "metadata": {},
   "outputs": [],
   "source": [
    "import numpy as np\n",
    "arr = np.array([[[57,59],\n",
    "                 [56,58]],\n",
    "                [[32,34],\n",
    "                 [71,71]]])"
   ]
  },
  {
   "cell_type": "code",
   "execution_count": 2,
   "id": "5d9176f6",
   "metadata": {},
   "outputs": [
    {
     "name": "stdout",
     "output_type": "stream",
     "text": [
      "Среднее для y00 = 58.0\n",
      "Среднее для y01 = 57.0\n",
      "Среднее для y10 = 33.0\n",
      "Среднее для y11 = 71.0\n"
     ]
    },
    {
     "data": {
      "text/plain": [
       "[58.0, 57.0, 33.0, 71.0]"
      ]
     },
     "execution_count": 2,
     "metadata": {},
     "output_type": "execute_result"
    }
   ],
   "source": [
    "y00 = np.mean(arr[0,0])\n",
    "y01 = np.mean(arr[0,1])\n",
    "y10 = np.mean(arr[1,0])\n",
    "y11 = np.mean(arr[1,1])\n",
    "\n",
    "y_cp = []    # все средние значения\n",
    "for i in range(2):\n",
    "    for j in range(2):\n",
    "        y_cp.append(np.mean(arr[i,j]))\n",
    "        print(f'Среднее для y{i}{j} = {np.mean(arr[i,j])}')\n",
    "y_cp"
   ]
  },
  {
   "cell_type": "code",
   "execution_count": 3,
   "id": "d98a9cdf",
   "metadata": {},
   "outputs": [
    {
     "name": "stdout",
     "output_type": "stream",
     "text": [
      "Среднее для первой строки: 57.5\n",
      "Среднее для второй строки: 52.0\n",
      "Среднее для первого столбца: 45.5\n",
      "Среднее для второго столбца: 64.0\n"
     ]
    }
   ],
   "source": [
    "yA1 = np.mean(arr[0])\n",
    "yA2 = np.mean(arr[1])\n",
    "yB1 = (np.mean(arr[0,0])+np.mean(arr[1,0]))/2\n",
    "yB2 = (np.mean(arr[0,1])+np.mean(arr[1,1]))/2\n",
    "\n",
    "'''t_cp = np.array([[0,0],[0,0]])\n",
    "y_cpA = np.array([[0,0],[0,0]])\n",
    "y_cpB = np.array([[0,0],[0,0]])\n",
    "for i in range(2):\n",
    "    for j in range(2):\n",
    "        t_cp[i,j] = np.mean(arr[i,j])\n",
    "for i in range(2):\n",
    "    for j in range(2):\n",
    "        y_cpA[i,j] = np.mean(t_cp[i])\n",
    "        y_cpB[i,j] = t_cp[j,i]\n",
    "print(t_cp)\n",
    "print(y_cpA)\n",
    "print(y_cpB)'''\n",
    "\n",
    "print(f'Среднее для первой строки: {yA1}')\n",
    "print(f'Среднее для второй строки: {yA2}')\n",
    "print(f'Среднее для первого столбца: {yB1}')\n",
    "print(f'Среднее для второго столбца: {yB2}')"
   ]
  },
  {
   "cell_type": "code",
   "execution_count": 4,
   "id": "30e0b9e9",
   "metadata": {},
   "outputs": [
    {
     "name": "stdout",
     "output_type": "stream",
     "text": [
      "Общее среднее: yF\n"
     ]
    }
   ],
   "source": [
    "yF = np.sum([yA1, yA2, yB1, yB2]) / 4\n",
    "print(f'Общее среднее: yF')"
   ]
  },
  {
   "cell_type": "code",
   "execution_count": 5,
   "id": "a677f5bf",
   "metadata": {},
   "outputs": [
    {
     "data": {
      "text/plain": [
       "(1511.5, 60.5, 684.5, 760.5, 6.0)"
      ]
     },
     "execution_count": 5,
     "metadata": {},
     "output_type": "execute_result"
    }
   ],
   "source": [
    "a = 2  #число уровней фактора A\n",
    "b = 2  #число уровней фактора\n",
    "n = 2  #число репликаций\n",
    "\n",
    "sum = 0\n",
    "for i in range(2):\n",
    "    for j in range(2):\n",
    "        for k in range(2):\n",
    "            sum += arr[i,j,k]**2\n",
    "SSt = sum - a*b*n*(yF**2)\n",
    "\n",
    "SSa = a*n*(yA1**2+yA2**2) - a*b*n*(yF**2)\n",
    "SSb = b*n*(yB1**2+yB2**2) - a*b*n*(yF**2)\n",
    "\n",
    "sum1 = 0\n",
    "for i in y_cp:\n",
    "        sum1 += i**2\n",
    "SSab = n*sum1 - a*b*n*(yF**2) - SSa - SSb\n",
    "SSe = SSt - SSa - SSb - SSab\n",
    "\n",
    "SSt, SSa, SSb, SSab, SSe"
   ]
  },
  {
   "cell_type": "code",
   "execution_count": 6,
   "id": "7dd82645",
   "metadata": {},
   "outputs": [
    {
     "data": {
      "text/plain": [
       "(60.5, 684.5, 760.5, 1.5)"
      ]
     },
     "execution_count": 6,
     "metadata": {},
     "output_type": "execute_result"
    }
   ],
   "source": [
    "dfA = a - 1\n",
    "dfB = b - 1\n",
    "dfAB = dfA * dfB\n",
    "dfE = a*b*(n-1)\n",
    "MSA = SSa / dfA\n",
    "MSB = SSb / dfB\n",
    "MSAB = SSab / dfAB\n",
    "MSE = SSe / dfE\n",
    "\n",
    "MSA,MSB,MSAB,MSE\n"
   ]
  },
  {
   "cell_type": "code",
   "execution_count": 7,
   "id": "3768d38e",
   "metadata": {},
   "outputs": [
    {
     "data": {
      "text/plain": [
       "(40.333333333333336, 456.3333333333333, 507.0)"
      ]
     },
     "execution_count": 7,
     "metadata": {},
     "output_type": "execute_result"
    }
   ],
   "source": [
    "FA = MSA / MSE\n",
    "FB = MSB / MSE\n",
    "FAB = MSAB / MSE\n",
    "FA,FB,FAB"
   ]
  },
  {
   "cell_type": "code",
   "execution_count": 8,
   "id": "a239288f",
   "metadata": {},
   "outputs": [
    {
     "data": {
      "text/plain": [
       "7.708647422176786"
      ]
     },
     "execution_count": 8,
     "metadata": {},
     "output_type": "execute_result"
    }
   ],
   "source": [
    "import scipy.stats as st\n",
    "Ft = st.f.ppf(1-0.05, dfA, dfE)\n",
    "Ft"
   ]
  },
  {
   "cell_type": "markdown",
   "id": "f46cb1f8",
   "metadata": {},
   "source": [
    "Рассчетные значения критериев Фишера для каждой группы (ФбИбФИ) лежат значительно правее, чем табличное значение, а это значит, что мы попадаем в область принятия гипотезы $H_1$. Соответственно, мы нашли статистически значимые различия, следовательно, можно утверждать, что обнаружено влияние обеих факторов (а также их взаимодействия) на исход испытания"
   ]
  },
  {
   "cell_type": "code",
   "execution_count": null,
   "id": "fb34f485",
   "metadata": {},
   "outputs": [],
   "source": []
  }
 ],
 "metadata": {
  "kernelspec": {
   "display_name": "Python 3 (ipykernel)",
   "language": "python",
   "name": "python3"
  },
  "language_info": {
   "codemirror_mode": {
    "name": "ipython",
    "version": 3
   },
   "file_extension": ".py",
   "mimetype": "text/x-python",
   "name": "python",
   "nbconvert_exporter": "python",
   "pygments_lexer": "ipython3",
   "version": "3.9.13"
  }
 },
 "nbformat": 4,
 "nbformat_minor": 5
}
