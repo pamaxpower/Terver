{
 "cells": [
  {
   "cell_type": "code",
   "execution_count": 3,
   "id": "e2aeb925",
   "metadata": {},
   "outputs": [
    {
     "name": "stdout",
     "output_type": "stream",
     "text": [
      "    Multiple Comparison of Means - Tukey HSD, FWER=0.05    \n",
      "===========================================================\n",
      "  group1    group2   meandiff p-adj   lower   upper  reject\n",
      "-----------------------------------------------------------\n",
      "acountant     lawyer  11.1429 0.0918 -1.5722 23.8579  False\n",
      "acountant programmer  86.2857    0.0 73.5707 99.0007   True\n",
      "   lawyer programmer  75.1429    0.0 62.4278 87.8579   True\n",
      "-----------------------------------------------------------\n"
     ]
    }
   ],
   "source": [
    "from statsmodels.stats.multicomp import pairwise_tukeyhsd\n",
    "import pandas as pd\n",
    "import numpy as np\n",
    "\n",
    "df = pd.DataFrame({'score': [70, 50, 65, 60, 75, 67, 74,\n",
    "                             80, 74, 90, 70, 75, 65, 85,\n",
    "                             148, 142, 140, 150, 160, 170, 155],\n",
    "                    'group': np.repeat(['acountant', 'lawyer', 'programmer'], repeats=7)})\n",
    "\n",
    "tukey = pairwise_tukeyhsd(endog=df['score'],\n",
    "                          groups=df['group'],\n",
    "                          alpha = 0.05)\n",
    "\n",
    "print(tukey)"
   ]
  },
  {
   "cell_type": "markdown",
   "id": "6bbd1c83",
   "metadata": {},
   "source": [
    "Между юристами и бухгалтерами статистически значимой разницы нет. p-value(0.0917)> $\\alpha$(0.05)\\\n",
    "В двух других случаях видна разница между группами (p-value = 0.001), за счет этих пар дисперсионный анализ показал, что профессия влияет на заработную плату"
   ]
  },
  {
   "cell_type": "code",
   "execution_count": null,
   "id": "5d23dddc",
   "metadata": {},
   "outputs": [],
   "source": []
  }
 ],
 "metadata": {
  "kernelspec": {
   "display_name": "Python 3 (ipykernel)",
   "language": "python",
   "name": "python3"
  },
  "language_info": {
   "codemirror_mode": {
    "name": "ipython",
    "version": 3
   },
   "file_extension": ".py",
   "mimetype": "text/x-python",
   "name": "python",
   "nbconvert_exporter": "python",
   "pygments_lexer": "ipython3",
   "version": "3.9.13"
  }
 },
 "nbformat": 4,
 "nbformat_minor": 5
}
