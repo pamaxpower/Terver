{
 "cells": [
  {
   "cell_type": "markdown",
   "id": "28be40af",
   "metadata": {},
   "source": [
    "Двухфакторный дисперсионный анализ в Python"
   ]
  },
  {
   "cell_type": "code",
   "execution_count": 4,
   "id": "2385df54",
   "metadata": {},
   "outputs": [],
   "source": [
    "import statsmodels.api as sm\n",
    "from statsmodels.formula.api import ols\n",
    "import numpy as np\n",
    "import pandas as pd\n",
    "\n",
    "fA = np.array(['low', 'low', 'low', 'low', 'high', 'high', 'high', 'high'])\n",
    "fB = np.array(['low', 'low', 'high', 'high', 'low', 'low', 'high', 'high'])\n",
    "values = np.array([57,59,56,58,32,34,71,71])"
   ]
  },
  {
   "cell_type": "code",
   "execution_count": 7,
   "id": "b811fbf5",
   "metadata": {},
   "outputs": [
    {
     "name": "stdout",
     "output_type": "stream",
     "text": [
      "     fA    fB  values\n",
      "0   low   low      57\n",
      "1   low   low      59\n",
      "2   low  high      56\n",
      "3   low  high      58\n",
      "4  high   low      32\n",
      "5  high   low      34\n",
      "6  high  high      71\n",
      "7  high  high      71\n"
     ]
    }
   ],
   "source": [
    "df = pd.DataFrame({'fA': fA, 'fB': fB, 'values': values})\n",
    "print(df)"
   ]
  },
  {
   "cell_type": "code",
   "execution_count": 11,
   "id": "4e340e6f",
   "metadata": {},
   "outputs": [
    {
     "name": "stdout",
     "output_type": "stream",
     "text": [
      "             sum_sq   df           F    PR(>F)\n",
      "C(fA)          60.5  1.0   40.333333  0.003150\n",
      "C(fB)         684.5  1.0  456.333333  0.000028\n",
      "C(fA):C(fB)   760.5  1.0  507.000000  0.000023\n",
      "Residual        6.0  4.0         NaN       NaN\n"
     ]
    }
   ],
   "source": [
    "lm_model = ols('values ~ C(fA) * C(fB)', data = df).fit()\n",
    "table = sm.stats.anova_lm(lm_model, typ=2)\n",
    "print(table)"
   ]
  }
 ],
 "metadata": {
  "kernelspec": {
   "display_name": "Python 3 (ipykernel)",
   "language": "python",
   "name": "python3"
  },
  "language_info": {
   "codemirror_mode": {
    "name": "ipython",
    "version": 3
   },
   "file_extension": ".py",
   "mimetype": "text/x-python",
   "name": "python",
   "nbconvert_exporter": "python",
   "pygments_lexer": "ipython3",
   "version": "3.9.13"
  }
 },
 "nbformat": 4,
 "nbformat_minor": 5
}
