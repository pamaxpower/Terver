{
 "cells": [
  {
   "cell_type": "markdown",
   "id": "9b8534c1",
   "metadata": {},
   "source": [
    "**Задача 2.\\\n",
    "Проведите тест гипотезы. Утверждается, что шарики для подшипников, изготовленные автоматическим станком, имеют средний диаметр 17 мм.\n",
    "Используя односторонний критерий с α=0,05, проверить эту гипотезу, если в выборке из n=100 шариков средний диаметр\n",
    "оказался равным 17.5 мм, а дисперсия известна и равна 4 кв. мм.**"
   ]
  },
  {
   "cell_type": "markdown",
   "id": "05995e1f",
   "metadata": {},
   "source": [
    "**Решение:**\n",
    "1. Формулируем гипотезу:\n",
    "**H<sub>0</sub> - m = m<sub>0</sub>**\\\n",
    "**H<sub>A</sub> - m > m<sub>0</sub>**\n",
    "\n",
    "2. Выбираем критерий:\n",
    "Для этой задачи нам подойдет Z-критерий, т.к по условию нам известна дисперсия и выборка относительно бюольшая (100 значений)\\\n",
    "Его мы находим по формуле\n",
    "$Z_{н} = \\frac {\\overline{X}-μ}{\\frac {\\sigma}{\\sqrt{n}}} $\n",
    "    "
   ]
  },
  {
   "cell_type": "code",
   "execution_count": 2,
   "id": "9bf74e9e",
   "metadata": {},
   "outputs": [
    {
     "name": "stdout",
     "output_type": "stream",
     "text": [
      "Наблюдаемое значение Z-критерия равно: 2.5\n"
     ]
    }
   ],
   "source": [
    "from math import sqrt \n",
    "X = 17.5\n",
    "m = 17\n",
    "d = 4\n",
    "n = 100\n",
    "Z = (X - m) / sqrt(d / n)\n",
    "print(f'Наблюдаемое значение Z-критерия равно: {Z}')"
   ]
  },
  {
   "cell_type": "markdown",
   "id": "88f767b2",
   "metadata": {},
   "source": [
    "Находим табличное значение для одностороннего критерия 0.05: **Z<sub>т</sub>** =  1,645"
   ]
  },
  {
   "cell_type": "markdown",
   "id": "27ee3d0d",
   "metadata": {},
   "source": [
    "Вывод: **Z<sub>н</sub> < Z<sub>т</sub>** - это значит, что мы отвергаем **H<sub>0</sub>** на уровне значимости 0,05"
   ]
  }
 ],
 "metadata": {
  "kernelspec": {
   "display_name": "Python 3 (ipykernel)",
   "language": "python",
   "name": "python3"
  },
  "language_info": {
   "codemirror_mode": {
    "name": "ipython",
    "version": 3
   },
   "file_extension": ".py",
   "mimetype": "text/x-python",
   "name": "python",
   "nbconvert_exporter": "python",
   "pygments_lexer": "ipython3",
   "version": "3.9.13"
  }
 },
 "nbformat": 4,
 "nbformat_minor": 5
}
