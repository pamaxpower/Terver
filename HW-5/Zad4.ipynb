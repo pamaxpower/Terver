{
 "cells": [
  {
   "cell_type": "markdown",
   "id": "0d9b8b3b",
   "metadata": {},
   "source": [
    "**Задача 4. Есть ли статистически значимые различия в росте дочерей?\n",
    "Рост матерей 172, 177, 158, 170, 178,175, 164, 160, 169, 165\n",
    "Рост взрослых дочерей: 173, 175, 162, 174, 175, 168, 155, 170, 160**\n"
   ]
  },
  {
   "cell_type": "markdown",
   "id": "dc42365a",
   "metadata": {},
   "source": [
    "**Решение:**\\\n",
    "Выдвигаем гипотезы:\\\n",
    "**H<sub>0</sub>** - рост матерей и дочерей равен\\\n",
    "**H<sub>A</sub>** - рост матерей не равен росту дочерей"
   ]
  },
  {
   "cell_type": "code",
   "execution_count": 1,
   "id": "a0c2b591",
   "metadata": {},
   "outputs": [
    {
     "data": {
      "text/plain": [
       "False"
      ]
     },
     "execution_count": 1,
     "metadata": {},
     "output_type": "execute_result"
    }
   ],
   "source": [
    "import numpy as np\n",
    "import scipy.stats as stats\n",
    "mother = [172, 177, 158, 170, 178,175, 164, 160, 169, 165]\n",
    "daugther = [173, 175, 162, 174, 175, 168, 155, 170, 160]\n",
    "len(mother) == len(daugther)"
   ]
  },
  {
   "cell_type": "markdown",
   "id": "61973ffd",
   "metadata": {},
   "source": [
    "У приведенных в условии массивах неравное кол-во элементов, поэтому к ним нельзя применить функции ttest_rel, поэтому я решил немного изменить условия и добавил в меньший массив (выборка по дочерям) еще одно медианное значение."
   ]
  },
  {
   "cell_type": "code",
   "execution_count": 2,
   "id": "1bbeb7ad",
   "metadata": {},
   "outputs": [
    {
     "name": "stdout",
     "output_type": "stream",
     "text": [
      "[173, 175, 162, 174, 175, 168, 155, 170, 160, 168.0]\n"
     ]
    }
   ],
   "source": [
    "m = np.mean(daugther)\n",
    "daugther.append(m)\n",
    "print(daugther)"
   ]
  },
  {
   "cell_type": "markdown",
   "id": "0572d576",
   "metadata": {},
   "source": [
    "Теперь можем применять встроенную функцию:"
   ]
  },
  {
   "cell_type": "code",
   "execution_count": 3,
   "id": "c5689a68",
   "metadata": {},
   "outputs": [
    {
     "name": "stdout",
     "output_type": "stream",
     "text": [
      "Ttest_relResult(statistic=0.40022240757904204, pvalue=0.6983260526026128)\n"
     ]
    }
   ],
   "source": [
    "test = stats.ttest_rel(mother,daugther)\n",
    "print(test)"
   ]
  },
  {
   "cell_type": "markdown",
   "id": "ea4ec253",
   "metadata": {},
   "source": [
    "Вывод: Поскольку значение p-value (0.6983) больше 0.05, полученные данные являются статистически значимыми, т.е. мы отвергаем **H<sub>0</sub>** в пользу **H<sub>A</sub>** и делаем вывод, росто взрослых дочерей никак не зависит от роста их матерей"
   ]
  }
 ],
 "metadata": {
  "kernelspec": {
   "display_name": "Python 3 (ipykernel)",
   "language": "python",
   "name": "python3"
  },
  "language_info": {
   "codemirror_mode": {
    "name": "ipython",
    "version": 3
   },
   "file_extension": ".py",
   "mimetype": "text/x-python",
   "name": "python",
   "nbconvert_exporter": "python",
   "pygments_lexer": "ipython3",
   "version": "3.9.13"
  }
 },
 "nbformat": 4,
 "nbformat_minor": 5
}
