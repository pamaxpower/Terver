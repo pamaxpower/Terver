{
 "cells": [
  {
   "cell_type": "markdown",
   "id": "0229d422",
   "metadata": {},
   "source": [
    "**Задача 1. Когда используется критерий Стьюдента, а когда Z –критерий?**"
   ]
  },
  {
   "cell_type": "markdown",
   "id": "a4acaf11",
   "metadata": {},
   "source": [
    "Ответ.\n",
    "Z-критерий используется, когда известна дисперсия генеральной совокупности, и показывает отклонение значения от среднего арифметического по выборке. Критерий Стьюдента или t используется при небольшом размере выборки (до 30) и неизвестной дисперсиию Для нахождения критерия Стьюдента, мы ищем разность средних арифметических каждой выборки и делим ее на квадратный корень размера совокупности: **$t = \\frac {X_{1} - X_{2}}{\\sqrt {\\frac{d_{1}}{n_{1}} + \\frac{d_{2}}{n_{2}}}}$**"
   ]
  }
 ],
 "metadata": {
  "kernelspec": {
   "display_name": "Python 3 (ipykernel)",
   "language": "python",
   "name": "python3"
  },
  "language_info": {
   "codemirror_mode": {
    "name": "ipython",
    "version": 3
   },
   "file_extension": ".py",
   "mimetype": "text/x-python",
   "name": "python",
   "nbconvert_exporter": "python",
   "pygments_lexer": "ipython3",
   "version": "3.9.13"
  }
 },
 "nbformat": 4,
 "nbformat_minor": 5
}
