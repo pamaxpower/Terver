{
 "cells": [
  {
   "cell_type": "markdown",
   "id": "be774c6b",
   "metadata": {},
   "source": [
    "**Задача 3. Проведите тест гипотезы. Продавец утверждает, что средний вес пачки печенья составляет 200 г.\n",
    "Из партии извлечена выборка из 10 пачек. Вес каждой пачки составляет:\n",
    "202, 203, 199, 197, 195, 201, 200, 204, 194, 190.\n",
    "Известно, что их веса распределены нормально.\n",
    "Верно ли утверждение продавца, если учитывать, что доверительная вероятность равна 99%? (Провести двусторонний тест.)**"
   ]
  },
  {
   "cell_type": "markdown",
   "id": "b5e40ab5",
   "metadata": {},
   "source": [
    "**Решение:**\n",
    "1. Формулируем гипотезу:\n",
    "**H<sub>0</sub> - m = m<sub>0</sub>**\\\n",
    "**H<sub>A</sub> - m $\\not=$ m<sub>0</sub>**\n",
    "\n",
    "Для решения задачи будем использовать двусторонний критерий α = 1 - 0.99 = 0.01\n",
    "\n",
    "2. Выбираем критерий:\n",
    "Для этой задачи мы будем использовать t-критерий, т.к. нам неизвестны ни среднее, ни дисперсия генеральной совокупности. А также выборка мала (10 элементов)\n",
    "\n",
    "Для решения задачи будем использовать встроенные функции."
   ]
  },
  {
   "cell_type": "code",
   "execution_count": 4,
   "id": "650379e1",
   "metadata": {},
   "outputs": [],
   "source": [
    "import numpy as np\n",
    "weidth = np.array([202, 203, 199, 197, 195, 201, 200, 204, 194, 190])\n",
    "X = 200"
   ]
  },
  {
   "cell_type": "markdown",
   "id": "93bdc45f",
   "metadata": {},
   "source": [
    "Находим среднее и дисперсию ген.совокупности:"
   ]
  },
  {
   "cell_type": "code",
   "execution_count": 5,
   "id": "be4cc0c9",
   "metadata": {},
   "outputs": [
    {
     "name": "stdout",
     "output_type": "stream",
     "text": [
      "Среднее равно: 198.5\n",
      "Дисперсия равна: 19.83\n"
     ]
    }
   ],
   "source": [
    "m = np.mean(weidth)\n",
    "d = np.var(weidth, ddof=1)\n",
    "print(f'Среднее равно: {m}')\n",
    "print(f'Дисперсия равна: {d:.4}')\n",
    "      "
   ]
  },
  {
   "cell_type": "markdown",
   "id": "e30bcf04",
   "metadata": {},
   "source": [
    "Считаем значение t-критерия:"
   ]
  },
  {
   "cell_type": "code",
   "execution_count": 6,
   "id": "cc320cba",
   "metadata": {},
   "outputs": [
    {
     "name": "stdout",
     "output_type": "stream",
     "text": [
      "Наблюдаемое значение t-критерия равно: -1.0651\n"
     ]
    }
   ],
   "source": [
    "t = (m-X) / np.sqrt(d/len(weidth))\n",
    "print(f'Наблюдаемое значение t-критерия равно: {t: .4f}')"
   ]
  },
  {
   "cell_type": "markdown",
   "id": "5e52070f",
   "metadata": {},
   "source": [
    "Находим табличное значение t-критерия на пересечении α=0.01 и степени свободы 10-1=9. **Z<sub>т</sub>* = 3.2498"
   ]
  },
  {
   "cell_type": "markdown",
   "id": "1701a87c",
   "metadata": {},
   "source": [
    "Вывод: **$ |t_{н}| < t_{т}$**, следовательно мы принимаем Н<sub>0</sub> на уровне значимости α = 0,01"
   ]
  }
 ],
 "metadata": {
  "kernelspec": {
   "display_name": "Python 3 (ipykernel)",
   "language": "python",
   "name": "python3"
  },
  "language_info": {
   "codemirror_mode": {
    "name": "ipython",
    "version": 3
   },
   "file_extension": ".py",
   "mimetype": "text/x-python",
   "name": "python",
   "nbconvert_exporter": "python",
   "pygments_lexer": "ipython3",
   "version": "3.9.13"
  }
 },
 "nbformat": 4,
 "nbformat_minor": 5
}
